{
 "cells": [
  {
   "cell_type": "code",
   "execution_count": 1,
   "metadata": {},
   "outputs": [],
   "source": [
    "import pandas as pd\n",
    "\n",
    "\n",
    "    \n",
    "life_expectancy = pd.read_csv('/home/acbessa/assignments/life_expectancy/data/eu_life_expectancy_raw.tsv', sep='\\t')\n"
   ]
  },
  {
   "cell_type": "code",
   "execution_count": null,
   "metadata": {},
   "outputs": [],
   "source": [
    "\n",
    "ids = ['unit', 'sex', 'age', 'region']\n",
    "# split the first columns into 4 diferent columns using , as separator\n",
    "life_expectancy[ids] = life_expectancy['unit,sex,age,geo\\\\time'].str.split(',', expand=True)\n",
    "\n",
    "# drop unecessary column\n",
    "life_expectancy = life_expectancy.drop(columns=['unit,sex,age,geo\\\\time'])"
   ]
  }
 ],
 "metadata": {
  "kernelspec": {
   "display_name": "foundations",
   "language": "python",
   "name": "python3"
  },
  "language_info": {
   "codemirror_mode": {
    "name": "ipython",
    "version": 3
   },
   "file_extension": ".py",
   "mimetype": "text/x-python",
   "name": "python",
   "nbconvert_exporter": "python",
   "pygments_lexer": "ipython3",
   "version": "3.8.13"
  },
  "orig_nbformat": 4
 },
 "nbformat": 4,
 "nbformat_minor": 2
}
